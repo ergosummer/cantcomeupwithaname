{
 "cells": [
  {
   "cell_type": "markdown",
   "id": "11a1d2a1",
   "metadata": {},
   "source": [
    "### Попробуем решить задачу бинарной классификации, определяя по погодным признакам одну из столиц - Москву или Санкт-Петербург.\n",
    "\n",
    "Для всех моделей метрика - ROC-AUC.\n",
    "\n",
    "Хорошо подходит для случаев, когда оба класса, во-первых, сбалансированы, во-вторых - одинаково важны.\n",
    "\n",
    "А это как раз наш случай. "
   ]
  },
  {
   "cell_type": "code",
   "execution_count": 2,
   "id": "a3566cf1",
   "metadata": {},
   "outputs": [],
   "source": [
    "import numpy as np\n",
    "import pandas as pd\n",
    "#import matplotlib.pyplot as plt\n",
    "import scipy.stats as sts\n",
    "#import seaborn as sns"
   ]
  },
  {
   "cell_type": "code",
   "execution_count": 140,
   "id": "7266ab9e",
   "metadata": {},
   "outputs": [],
   "source": [
    "import warnings\n",
    "warnings.simplefilter('ignore')"
   ]
  },
  {
   "cell_type": "code",
   "execution_count": 82,
   "id": "635c1e6c",
   "metadata": {},
   "outputs": [],
   "source": [
    "# техническое извлечение таблиц\n",
    "df_spb = pd.read_csv('final_spb', sep=',')\n",
    "df_moscow = pd.read_csv('final_moscow', sep=',')"
   ]
  },
  {
   "cell_type": "code",
   "execution_count": 83,
   "id": "9328ccb4",
   "metadata": {},
   "outputs": [],
   "source": [
    "# обработка значений для машинного обучения\n",
    "df_spb.drop(columns='Дата', inplace=True) # конкретные даты нам уже не понадобятся\n",
    "df_moscow.drop(columns='Дата', inplace=True)\n",
    "df_spb['Город'] = np.zeros((len(df_spb.index), 1)) # добавляем категориальные признаки \n",
    "df_moscow['Город'] = np.ones((len(df_spb.index), 1))\n",
    "df = pd.concat((df_spb, df_moscow), ignore_index=True) # объединяем в единый массив"
   ]
  },
  {
   "cell_type": "code",
   "execution_count": 84,
   "id": "593fc3c9",
   "metadata": {},
   "outputs": [],
   "source": [
    "# разбиваем признаки на числовые, категориальные и целевой \n",
    "\n",
    "nums = ['Ночная температура', 'Дневная температура', 'Влажность', 'Давление', 'Сила ветра', 'Перепад температур']\n",
    "cats = ['Месяц', 'Направление ветра']\n",
    "targ = ['Город']"
   ]
  },
  {
   "cell_type": "code",
   "execution_count": 166,
   "id": "151599ce",
   "metadata": {},
   "outputs": [],
   "source": [
    "from sklearn.model_selection import train_test_split, GridSearchCV\n",
    "from sklearn.preprocessing import OneHotEncoder, StandardScaler\n",
    "from sklearn.compose import ColumnTransformer\n",
    "\n",
    "from sklearn.linear_model import LogisticRegression\n",
    "from sklearn.tree import DecisionTreeClassifier\n",
    "from sklearn.ensemble import RandomForestClassifier\n",
    "\n",
    "from sklearn.pipeline import Pipeline\n",
    "from sklearn.metrics import roc_auc_score, classification_report"
   ]
  },
  {
   "cell_type": "code",
   "execution_count": 85,
   "id": "0aa13987",
   "metadata": {},
   "outputs": [],
   "source": [
    "# фиксируем random state и создаем тренировочные и тестовые выборки\n",
    "\n",
    "RS = 2599\n",
    "\n",
    "df_train, df_test = train_test_split(df, test_size=0.2, random_state=RS)\n",
    "\n",
    "X_train = df_train.drop(columns='Город')\n",
    "X_test = df_test.drop(columns='Город')\n",
    "\n",
    "y_train = df_train['Город']\n",
    "y_test = df_test['Город']"
   ]
  },
  {
   "cell_type": "code",
   "execution_count": null,
   "id": "b6109edf",
   "metadata": {},
   "outputs": [],
   "source": [
    "# обработка данных с one hot encoding и стандартизация числовых признаков одинакова для всех моделей \n",
    "\n",
    "column_transformer = ColumnTransformer([\n",
    "    ('scaling', StandardScaler(), nums),    \n",
    "    ('ohe', OneHotEncoder(handle_unknown=\"error\", drop=\"first\"), cats)\n",
    "])"
   ]
  },
  {
   "cell_type": "markdown",
   "id": "c00e5c70",
   "metadata": {},
   "source": [
    "## 1. Логистическая регрессия\n",
    "\n",
    "Сначала ищем solver, потом оптимизируем доступные параметры. "
   ]
  },
  {
   "cell_type": "code",
   "execution_count": 107,
   "id": "fda22476",
   "metadata": {},
   "outputs": [],
   "source": [
    "params = {'logreg__solver': ['newton-cg', 'lbfgs', 'liblinear', 'sag', 'saga']}\n",
    "\n",
    "model_lr = Pipeline(steps=[\n",
    "    ('ohe_and_scaling', column_transformer),\n",
    "    ('logreg', LogisticRegression(random_state=RS))\n",
    "])\n",
    "\n",
    "searcher_sol = GridSearchCV(\n",
    "    model_lr, \n",
    "    params, cv=5, n_jobs=-1,\n",
    "    scoring='roc_auc')"
   ]
  },
  {
   "cell_type": "code",
   "execution_count": 143,
   "id": "907fbe7f",
   "metadata": {
    "scrolled": true
   },
   "outputs": [],
   "source": [
    "%%capture\n",
    "searcher_sol.fit(X_train, y_train)"
   ]
  },
  {
   "cell_type": "code",
   "execution_count": 144,
   "id": "f29b954b",
   "metadata": {},
   "outputs": [
    {
     "data": {
      "text/plain": [
       "{'logreg__solver': 'liblinear'}"
      ]
     },
     "execution_count": 144,
     "metadata": {},
     "output_type": "execute_result"
    }
   ],
   "source": [
    "searcher_sol.best_params_"
   ]
  },
  {
   "cell_type": "code",
   "execution_count": 145,
   "id": "1fcab288",
   "metadata": {},
   "outputs": [],
   "source": [
    "y_pred = searcher_sol.predict(X_test)\n",
    "p_pred = searcher_sol.predict_proba(X_test)\n",
    "p_pred = p_pred[:, -1]"
   ]
  },
  {
   "cell_type": "code",
   "execution_count": 146,
   "id": "3c3077d9",
   "metadata": {},
   "outputs": [
    {
     "name": "stdout",
     "output_type": "stream",
     "text": [
      "              precision    recall  f1-score   support\n",
      "\n",
      "         0.0       0.55      0.57      0.56       408\n",
      "         1.0       0.59      0.57      0.58       442\n",
      "\n",
      "    accuracy                           0.57       850\n",
      "   macro avg       0.57      0.57      0.57       850\n",
      "weighted avg       0.57      0.57      0.57       850\n",
      "\n"
     ]
    }
   ],
   "source": [
    "print(classification_report(y_pred, y_test))"
   ]
  },
  {
   "cell_type": "code",
   "execution_count": 147,
   "id": "1b9d3fc5",
   "metadata": {
    "scrolled": true
   },
   "outputs": [
    {
     "data": {
      "text/plain": [
       "0.6026873951533875"
      ]
     },
     "execution_count": 147,
     "metadata": {},
     "output_type": "execute_result"
    }
   ],
   "source": [
    "roc_auc_score(y_test, p_pred)"
   ]
  },
  {
   "cell_type": "code",
   "execution_count": 148,
   "id": "415fbc07",
   "metadata": {},
   "outputs": [],
   "source": [
    "alphas = np.logspace(-2, 4, 15)\n",
    "params = {'logreg__penalty': ['l1', 'l2'], 'logreg__C': alphas}\n",
    "\n",
    "model_lr = Pipeline(steps=[\n",
    "    ('ohe_and_scaling', column_transformer),\n",
    "    ('logreg', LogisticRegression(random_state=RS, solver='liblinear'))\n",
    "])\n",
    "\n",
    "searcher_lr = GridSearchCV(model_lr, params,\n",
    "                        scoring=\"roc_auc\", cv=5, n_jobs=-1)"
   ]
  },
  {
   "cell_type": "code",
   "execution_count": 149,
   "id": "eab6de38",
   "metadata": {},
   "outputs": [],
   "source": [
    "%%capture\n",
    "searcher_lr.fit(X_train, y_train)"
   ]
  },
  {
   "cell_type": "code",
   "execution_count": 150,
   "id": "daef4f57",
   "metadata": {},
   "outputs": [],
   "source": [
    "y_pred = searcher_lr.predict(X_test)\n",
    "p_pred = searcher_lr.predict_proba(X_test)\n",
    "p_pred = p_pred[:, -1]"
   ]
  },
  {
   "cell_type": "code",
   "execution_count": 151,
   "id": "1c6c3794",
   "metadata": {},
   "outputs": [
    {
     "data": {
      "text/plain": [
       "{'logreg__C': 26.826957952797247, 'logreg__penalty': 'l2'}"
      ]
     },
     "execution_count": 151,
     "metadata": {},
     "output_type": "execute_result"
    }
   ],
   "source": [
    "searcher_lr.best_params_"
   ]
  },
  {
   "cell_type": "code",
   "execution_count": 152,
   "id": "1b01dc48",
   "metadata": {},
   "outputs": [
    {
     "name": "stdout",
     "output_type": "stream",
     "text": [
      "              precision    recall  f1-score   support\n",
      "\n",
      "         0.0       0.53      0.56      0.55       402\n",
      "         1.0       0.59      0.56      0.57       448\n",
      "\n",
      "    accuracy                           0.56       850\n",
      "   macro avg       0.56      0.56      0.56       850\n",
      "weighted avg       0.56      0.56      0.56       850\n",
      "\n"
     ]
    }
   ],
   "source": [
    "print(classification_report(y_pred, y_test))"
   ]
  },
  {
   "cell_type": "code",
   "execution_count": 153,
   "id": "c9cf63f3",
   "metadata": {},
   "outputs": [
    {
     "data": {
      "text/plain": [
       "0.6028479523421972"
      ]
     },
     "execution_count": 153,
     "metadata": {},
     "output_type": "execute_result"
    }
   ],
   "source": [
    "roc_auc_score(y_test, p_pred)"
   ]
  },
  {
   "cell_type": "markdown",
   "id": "93837078",
   "metadata": {},
   "source": [
    "Итого: ROC-AUC больше 0.5, но не сильно - у приемлемой модели хотелось бы видеть 0.7.\n",
    "\n",
    "Точность и полнота совсем печальные, но они и не являются ключевой метрикой. Интересно, что Москва определяется с чуть большей точностью, чем Санкт-Петербург. "
   ]
  },
  {
   "cell_type": "markdown",
   "id": "a45f2e4c",
   "metadata": {},
   "source": [
    "# 2. Дерево решений \n",
    "\n",
    "Очень \"шумный\" датасет для такого алгоритма, ожидать улучшения показателей, наверное, не стоит. Но попробуем. "
   ]
  },
  {
   "cell_type": "code",
   "execution_count": 171,
   "id": "4c117774",
   "metadata": {},
   "outputs": [],
   "source": [
    "model_dtree = Pipeline(steps=[\n",
    "    ('ohe_and_scaling', column_transformer),\n",
    "    ('dtree', DecisionTreeClassifier(random_state=RS))\n",
    "])\n",
    "\n",
    "params = {\n",
    "    'dtree__criterion': ['gini', 'entropy'],\n",
    "    'dtree__splitter' : ['best', 'random'],\n",
    "    'dtree__max_features' : [\"auto\", \"sqrt\", \"log2\"]\n",
    "}\n",
    "\n",
    "searcher_dtree = GridSearchCV(model_dtree, params,\n",
    "                        scoring=\"roc_auc\", cv=5, n_jobs=-1)"
   ]
  },
  {
   "cell_type": "code",
   "execution_count": 173,
   "id": "2d327050",
   "metadata": {},
   "outputs": [],
   "source": [
    "%%capture\n",
    "searcher_dtree.fit(X_train, y_train)"
   ]
  },
  {
   "cell_type": "code",
   "execution_count": 174,
   "id": "55f1bb89",
   "metadata": {},
   "outputs": [
    {
     "data": {
      "text/plain": [
       "{'dtree__criterion': 'entropy',\n",
       " 'dtree__max_features': 'auto',\n",
       " 'dtree__splitter': 'best'}"
      ]
     },
     "execution_count": 174,
     "metadata": {},
     "output_type": "execute_result"
    }
   ],
   "source": [
    "searcher_dtree.best_params_"
   ]
  },
  {
   "cell_type": "code",
   "execution_count": 175,
   "id": "a3cf97a9",
   "metadata": {},
   "outputs": [],
   "source": [
    "y_pred = searcher_dtree.predict(X_test)\n",
    "p_pred = searcher_dtree.predict_proba(X_test)\n",
    "p_pred = p_pred[:, -1]"
   ]
  },
  {
   "cell_type": "code",
   "execution_count": 176,
   "id": "3bf6f983",
   "metadata": {},
   "outputs": [
    {
     "name": "stdout",
     "output_type": "stream",
     "text": [
      "              precision    recall  f1-score   support\n",
      "\n",
      "         0.0       0.52      0.52      0.52       427\n",
      "         1.0       0.52      0.52      0.52       423\n",
      "\n",
      "    accuracy                           0.52       850\n",
      "   macro avg       0.52      0.52      0.52       850\n",
      "weighted avg       0.52      0.52      0.52       850\n",
      "\n"
     ]
    }
   ],
   "source": [
    "print(classification_report(y_pred, y_test))"
   ]
  },
  {
   "cell_type": "code",
   "execution_count": 177,
   "id": "82708754",
   "metadata": {},
   "outputs": [
    {
     "data": {
      "text/plain": [
       "0.520011515825956"
      ]
     },
     "execution_count": 177,
     "metadata": {},
     "output_type": "execute_result"
    }
   ],
   "source": [
    "roc_auc_score(y_test, p_pred)"
   ]
  },
  {
   "cell_type": "markdown",
   "id": "60c7c72d",
   "metadata": {},
   "source": [
    "Все очень грустно, качество модели на уровне случайного выбора. "
   ]
  },
  {
   "cell_type": "markdown",
   "id": "5a523eab",
   "metadata": {},
   "source": [
    "## 3. Случайный лес\n",
    "\n",
    "Главный герой. Должен дать наилучшие результаты. "
   ]
  },
  {
   "cell_type": "code",
   "execution_count": 154,
   "id": "b531d1fa",
   "metadata": {},
   "outputs": [],
   "source": [
    "model_rf = Pipeline(steps=[\n",
    "    ('ohe_and_scaling', column_transformer),\n",
    "    ('random_forest', RandomForestClassifier(random_state=RS))\n",
    "])\n",
    "\n",
    "params = {\n",
    "    'random_forest__n_estimators': [100, 200, 500],\n",
    "    'random_forest__max_features': ['sqrt', 'log2', 'auto']\n",
    "}\n",
    "\n",
    "searcher_rf = GridSearchCV(model_rf, params,\n",
    "                        scoring=\"roc_auc\", cv=5, n_jobs=-1)"
   ]
  },
  {
   "cell_type": "code",
   "execution_count": 178,
   "id": "c2e46b01",
   "metadata": {},
   "outputs": [],
   "source": [
    "%%capture\n",
    "searcher_rf.fit(X_train, y_train)"
   ]
  },
  {
   "cell_type": "code",
   "execution_count": 158,
   "id": "5cba6c0a",
   "metadata": {},
   "outputs": [],
   "source": [
    "y_pred = searcher_rf.predict(X_test)\n",
    "p_pred = searcher_rf.predict_proba(X_test)\n",
    "p_pred = p_pred[:, -1]"
   ]
  },
  {
   "cell_type": "code",
   "execution_count": 159,
   "id": "ddec5b48",
   "metadata": {},
   "outputs": [
    {
     "data": {
      "text/plain": [
       "{'random_forest__max_features': 'sqrt', 'random_forest__n_estimators': 500}"
      ]
     },
     "execution_count": 159,
     "metadata": {},
     "output_type": "execute_result"
    }
   ],
   "source": [
    "searcher_rf.best_params_"
   ]
  },
  {
   "cell_type": "code",
   "execution_count": 160,
   "id": "6e5e64f2",
   "metadata": {},
   "outputs": [
    {
     "name": "stdout",
     "output_type": "stream",
     "text": [
      "              precision    recall  f1-score   support\n",
      "\n",
      "         0.0       0.65      0.62      0.63       442\n",
      "         1.0       0.60      0.63      0.62       408\n",
      "\n",
      "    accuracy                           0.62       850\n",
      "   macro avg       0.62      0.62      0.62       850\n",
      "weighted avg       0.63      0.62      0.62       850\n",
      "\n"
     ]
    }
   ],
   "source": [
    "print(classification_report(y_pred, y_test))"
   ]
  },
  {
   "cell_type": "code",
   "execution_count": 161,
   "id": "3aed227f",
   "metadata": {},
   "outputs": [
    {
     "data": {
      "text/plain": [
       "0.6626582734012103"
      ]
     },
     "execution_count": 161,
     "metadata": {},
     "output_type": "execute_result"
    }
   ],
   "source": [
    "roc_auc_score(y_test, p_pred)"
   ]
  },
  {
   "cell_type": "markdown",
   "id": "53735295",
   "metadata": {},
   "source": [
    "Так и есть, результаты значительно улучшились. \n",
    "Почти получилось достать до условной нижней границы приемлемого - 0.7 по ключевой метрике. \n",
    "\n",
    "Тут, кстати, более точно получается предсказывать не Москву, как у логистической регрессии, а Санкт-Петербург. \n",
    "\n",
    "В итоге можно оценить решение задачи классификации на \"удовлетворительно\". Если обогатить датасет информацией (например, тем же количеством осадков в милиметрах) - вполне вероятно дотянуть до \"хорошо\". "
   ]
  }
 ],
 "metadata": {
  "kernelspec": {
   "display_name": "Python 3 (ipykernel)",
   "language": "python",
   "name": "python3"
  },
  "language_info": {
   "codemirror_mode": {
    "name": "ipython",
    "version": 3
   },
   "file_extension": ".py",
   "mimetype": "text/x-python",
   "name": "python",
   "nbconvert_exporter": "python",
   "pygments_lexer": "ipython3",
   "version": "3.9.7"
  }
 },
 "nbformat": 4,
 "nbformat_minor": 5
}
