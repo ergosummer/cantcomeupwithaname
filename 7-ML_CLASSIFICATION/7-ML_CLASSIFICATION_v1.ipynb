{
 "cells": [
  {
   "cell_type": "code",
   "execution_count": 328,
   "id": "eeddad36",
   "metadata": {},
   "outputs": [],
   "source": [
    "# changelog по сравнению с v0:\n",
    "# добавил интерпретацию коэффициентов логистической регрессии\n",
    "# поменял некоторые параметры в препроцессинге и моделях, улучшив целевую метрику\n",
    "# добавил график, визуализирующий качество предсказаний рассматриваемых моделей"
   ]
  },
  {
   "cell_type": "markdown",
   "id": "11a1d2a1",
   "metadata": {},
   "source": [
    "### Попробуем решить задачу бинарной классификации, определяя по погодным признакам одну из столиц - Москву или Санкт-Петербург.\n",
    "\n",
    "Для всех моделей метрика - ROC-AUC.\n",
    "\n",
    "Хорошо подходит для случаев, когда оба класса, во-первых, сбалансированы, во-вторых - одинаково важны.\n",
    "\n",
    "А это как раз наш случай. "
   ]
  },
  {
   "cell_type": "code",
   "execution_count": 198,
   "id": "a3566cf1",
   "metadata": {},
   "outputs": [],
   "source": [
    "import numpy as np\n",
    "import pandas as pd\n",
    "import matplotlib.pyplot as plt\n",
    "import scipy.stats as sts\n",
    "import seaborn as sns"
   ]
  },
  {
   "cell_type": "code",
   "execution_count": 199,
   "id": "7266ab9e",
   "metadata": {},
   "outputs": [],
   "source": [
    "import warnings\n",
    "warnings.simplefilter('ignore')"
   ]
  },
  {
   "cell_type": "code",
   "execution_count": 4,
   "id": "635c1e6c",
   "metadata": {},
   "outputs": [],
   "source": [
    "# техническое извлечение таблиц\n",
    "df_spb = pd.read_csv('final_spb', sep=',')\n",
    "df_moscow = pd.read_csv('final_moscow', sep=',')"
   ]
  },
  {
   "cell_type": "code",
   "execution_count": 5,
   "id": "9328ccb4",
   "metadata": {},
   "outputs": [],
   "source": [
    "# обработка значений для машинного обучения\n",
    "df_spb.drop(columns='Дата', inplace=True) # конкретные даты нам уже не понадобятся\n",
    "df_moscow.drop(columns='Дата', inplace=True)\n",
    "df_spb['Город'] = np.zeros((len(df_spb.index), 1)) # добавляем категориальные признаки \n",
    "df_moscow['Город'] = np.ones((len(df_spb.index), 1))\n",
    "df = pd.concat((df_spb, df_moscow), ignore_index=True) # объединяем в единый массив"
   ]
  },
  {
   "cell_type": "code",
   "execution_count": 113,
   "id": "593fc3c9",
   "metadata": {},
   "outputs": [],
   "source": [
    "# разбиваем признаки на числовые, категориальные и целевой \n",
    "\n",
    "nums = ['Ночная температура', 'Дневная температура', 'Влажность', 'Давление', 'Сила ветра', 'Перепад температур']\n",
    "cats = ['Месяц', 'Направление ветра', 'Погодные явления']\n",
    "targ = ['Город']"
   ]
  },
  {
   "cell_type": "code",
   "execution_count": 10,
   "id": "151599ce",
   "metadata": {},
   "outputs": [],
   "source": [
    "from sklearn.model_selection import train_test_split, GridSearchCV\n",
    "from sklearn.preprocessing import OneHotEncoder, StandardScaler\n",
    "from sklearn.compose import ColumnTransformer\n",
    "\n",
    "from sklearn.linear_model import LogisticRegression\n",
    "from sklearn.tree import DecisionTreeClassifier\n",
    "from sklearn.ensemble import RandomForestClassifier\n",
    "\n",
    "from sklearn.pipeline import Pipeline\n",
    "from sklearn.metrics import roc_auc_score, classification_report"
   ]
  },
  {
   "cell_type": "code",
   "execution_count": 114,
   "id": "0aa13987",
   "metadata": {},
   "outputs": [],
   "source": [
    "# фиксируем random state и создаем тренировочные и тестовые выборки\n",
    "\n",
    "RS = 2599\n",
    "\n",
    "df_train, df_test = train_test_split(df, test_size=0.2, random_state=RS)\n",
    "\n",
    "X_train = df_train.drop(columns='Город')\n",
    "X_test = df_test.drop(columns='Город')\n",
    "\n",
    "y_train = df_train['Город']\n",
    "y_test = df_test['Город']"
   ]
  },
  {
   "cell_type": "code",
   "execution_count": 148,
   "id": "b6109edf",
   "metadata": {},
   "outputs": [],
   "source": [
    "# обработка данных с one hot encoding и стандартизация числовых признаков одинакова для всех моделей \n",
    "\n",
    "column_transformer = ColumnTransformer([\n",
    "    ('scaling', StandardScaler(), nums),    \n",
    "    ('ohe', OneHotEncoder(handle_unknown=\"error\"), cats) # задаем drop=None, чтобы потом интерпретировать все признаки\n",
    "])"
   ]
  },
  {
   "cell_type": "markdown",
   "id": "c00e5c70",
   "metadata": {},
   "source": [
    "## 1. Логистическая регрессия\n",
    "\n",
    "Сначала ищем solver, потом оптимизируем доступные параметры. "
   ]
  },
  {
   "cell_type": "code",
   "execution_count": 149,
   "id": "fda22476",
   "metadata": {},
   "outputs": [],
   "source": [
    "params = {'logreg__solver': ['newton-cg', 'lbfgs', 'liblinear', 'sag', 'saga']}\n",
    "\n",
    "model_lr = Pipeline(steps=[\n",
    "    ('ohe_and_scaling', column_transformer),\n",
    "    ('logreg', LogisticRegression(random_state=RS, max_iter = 1000))\n",
    "])\n",
    "\n",
    "searcher_sol = GridSearchCV(\n",
    "    model_lr, \n",
    "    params, cv=5, n_jobs=-1,\n",
    "    scoring='roc_auc')"
   ]
  },
  {
   "cell_type": "code",
   "execution_count": 150,
   "id": "907fbe7f",
   "metadata": {
    "scrolled": true
   },
   "outputs": [],
   "source": [
    "%%capture\n",
    "searcher_sol.fit(X_train, y_train)"
   ]
  },
  {
   "cell_type": "code",
   "execution_count": 151,
   "id": "f29b954b",
   "metadata": {},
   "outputs": [
    {
     "data": {
      "text/plain": [
       "{'logreg__solver': 'newton-cg'}"
      ]
     },
     "execution_count": 151,
     "metadata": {},
     "output_type": "execute_result"
    }
   ],
   "source": [
    "searcher_sol.best_params_\n",
    "# оптимальный солвер найден "
   ]
  },
  {
   "cell_type": "code",
   "execution_count": 141,
   "id": "5732f582",
   "metadata": {},
   "outputs": [],
   "source": [
    "# теперь можем оптимизировать модель для получения итогового результата"
   ]
  },
  {
   "cell_type": "code",
   "execution_count": 152,
   "id": "415fbc07",
   "metadata": {},
   "outputs": [],
   "source": [
    "alphas = np.logspace(-2, 4, 15) # значения для оптимизации скорости обучения \n",
    "params = {'logreg__penalty': ['l2'], 'logreg__C': alphas}\n",
    "\n",
    "model_lr = Pipeline(steps=[\n",
    "    ('ohe_and_scaling', column_transformer),\n",
    "    ('logreg', LogisticRegression(random_state=RS, solver='newton-cg'))\n",
    "])\n",
    "\n",
    "searcher_lr = GridSearchCV(model_lr, params,\n",
    "                        scoring=\"roc_auc\", cv=5, n_jobs=-1)"
   ]
  },
  {
   "cell_type": "code",
   "execution_count": 153,
   "id": "eab6de38",
   "metadata": {},
   "outputs": [],
   "source": [
    "%%capture\n",
    "searcher_lr.fit(X_train, y_train)"
   ]
  },
  {
   "cell_type": "code",
   "execution_count": 154,
   "id": "daef4f57",
   "metadata": {},
   "outputs": [],
   "source": [
    "y_pred_lr = searcher_lr.predict(X_test)\n",
    "p_pred_lr = searcher_lr.predict_proba(X_test)\n",
    "p_pred_lr = p_pred_lr[:, -1]"
   ]
  },
  {
   "cell_type": "code",
   "execution_count": 155,
   "id": "1c6c3794",
   "metadata": {},
   "outputs": [
    {
     "data": {
      "text/plain": [
       "{'logreg__C': 1.3894954943731375, 'logreg__penalty': 'l2'}"
      ]
     },
     "execution_count": 155,
     "metadata": {},
     "output_type": "execute_result"
    }
   ],
   "source": [
    "searcher_lr.best_params_"
   ]
  },
  {
   "cell_type": "code",
   "execution_count": 156,
   "id": "1b01dc48",
   "metadata": {},
   "outputs": [
    {
     "name": "stdout",
     "output_type": "stream",
     "text": [
      "              precision    recall  f1-score   support\n",
      "\n",
      "         0.0       0.64      0.60      0.62       457\n",
      "         1.0       0.57      0.62      0.59       393\n",
      "\n",
      "    accuracy                           0.60       850\n",
      "   macro avg       0.60      0.61      0.60       850\n",
      "weighted avg       0.61      0.60      0.61       850\n",
      "\n"
     ]
    }
   ],
   "source": [
    "print(classification_report(y_pred_lr, y_test))"
   ]
  },
  {
   "cell_type": "code",
   "execution_count": 157,
   "id": "c9cf63f3",
   "metadata": {},
   "outputs": [
    {
     "data": {
      "text/plain": [
       "0.6533902480885391"
      ]
     },
     "execution_count": 157,
     "metadata": {},
     "output_type": "execute_result"
    }
   ],
   "source": [
    "roc_auc_score(y_test, p_pred_lr)"
   ]
  },
  {
   "cell_type": "markdown",
   "id": "93837078",
   "metadata": {},
   "source": [
    "Итого: ROC-AUC почти достает до 0.7 - условной границы \"хорошей\" модели. Неплохо: СПб и Москва различаются достаточно сильно, чтобы отличать их друг от друга по данному датасету.\n",
    "\n",
    "Точность и полнота печальные, но они и не являются ключевой метрикой. Интересно, что Санкт-Петербург определяется с чуть большей точностью, чем Москва. "
   ]
  },
  {
   "cell_type": "markdown",
   "id": "e8b956ce",
   "metadata": {},
   "source": [
    "А еще мы можем вытащить коэффициенты из модели и их интерпретировать. \\\n",
    "Поиски решения этой не совсем тривиальной задачи привели к улучшению ROC-AUC и замене нескольких параметров в препроцессинге данных и в самой логистической регрессии. \\\n",
    "Главная трудность - достать признаки после препроцессинга OHE+scaling, усложняющаяся тем, что я использовал Pipeline; а также вытащить сами коэффициенты регрессии из того же Pipeline. \n",
    "\n",
    "https://stackoverflow.com/questions/54646709/sklearn-pipeline-get-feature-names-after-onehotencode-in-columntransformer \\\n",
    "Из интересного: вопрос о том, что в каком порядке идут коэффициенты (сначала категориальные, а потом числовые, или наоборот). В комментах написали, что в том порядке, в котором указаны в column transformer. Так что у меня сначала числовые, а потом категориальные."
   ]
  },
  {
   "cell_type": "code",
   "execution_count": 161,
   "id": "4091cce7",
   "metadata": {},
   "outputs": [
    {
     "data": {
      "text/plain": [
       "array([ 0.07600745,  0.09665803, -0.26802788,  0.15640038,  0.05518   ,\n",
       "        0.09171458,  0.25503902,  0.31077911,  0.25943068, -0.22149442,\n",
       "       -0.2684104 , -0.34843117, -0.16434962, -0.2800595 ,  0.03936876,\n",
       "        0.1107219 ,  0.17090296,  0.13650268, -0.28636125, -0.49874823,\n",
       "        0.0277925 , -0.27016526,  0.52524273,  0.13350232,  0.20708631,\n",
       "        0.1616509 ,  0.40227339, -0.66742777, -0.99604727, -0.33321831,\n",
       "        0.49951747,  1.22241401, -0.1275115 ])"
      ]
     },
     "execution_count": 161,
     "metadata": {},
     "output_type": "execute_result"
    }
   ],
   "source": [
    "# коэффициенты модели \n",
    "modcoef = searcher_lr.best_estimator_.named_steps['logreg'].coef_[0]\n",
    "modcoef"
   ]
  },
  {
   "cell_type": "code",
   "execution_count": 164,
   "id": "652efc54",
   "metadata": {},
   "outputs": [
    {
     "data": {
      "text/plain": [
       "array(['Месяц_1', 'Месяц_2', 'Месяц_3', 'Месяц_4', 'Месяц_5', 'Месяц_6',\n",
       "       'Месяц_7', 'Месяц_8', 'Месяц_9', 'Месяц_10', 'Месяц_11',\n",
       "       'Месяц_12', 'Направление ветра_Восточный',\n",
       "       'Направление ветра_Западный', 'Направление ветра_Северный',\n",
       "       'Направление ветра_Северо-восточный',\n",
       "       'Направление ветра_Северо-западный',\n",
       "       'Направление ветра_Юго-восточный',\n",
       "       'Направление ветра_Юго-западный', 'Направление ветра_Южный',\n",
       "       'Погодные явления_дождь', 'Погодные явления_малооблачно',\n",
       "       'Погодные явления_облачно', 'Погодные явления_пасмурно',\n",
       "       'Погодные явления_снег', 'Погодные явления_туман',\n",
       "       'Погодные явления_ясно'], dtype=object)"
      ]
     },
     "execution_count": 164,
     "metadata": {},
     "output_type": "execute_result"
    }
   ],
   "source": [
    "# переменные после OHE \n",
    "ohe_cats = searcher_lr.best_estimator_.named_steps['ohe_and_scaling'].transformers_[1][1].get_feature_names(cats)\n",
    "len(ohe_cats)\n",
    "ohe_cats"
   ]
  },
  {
   "cell_type": "code",
   "execution_count": 180,
   "id": "87070d0b",
   "metadata": {},
   "outputs": [
    {
     "data": {
      "text/plain": [
       "array(['Ночная температура', 'Дневная температура', 'Влажность',\n",
       "       'Давление', 'Сила ветра', 'Перепад температур', 'Месяц_1',\n",
       "       'Месяц_2', 'Месяц_3', 'Месяц_4', 'Месяц_5', 'Месяц_6', 'Месяц_7',\n",
       "       'Месяц_8', 'Месяц_9', 'Месяц_10', 'Месяц_11', 'Месяц_12',\n",
       "       'Направление ветра_Восточный', 'Направление ветра_Западный',\n",
       "       'Направление ветра_Северный', 'Направление ветра_Северо-восточный',\n",
       "       'Направление ветра_Северо-западный',\n",
       "       'Направление ветра_Юго-восточный',\n",
       "       'Направление ветра_Юго-западный', 'Направление ветра_Южный',\n",
       "       'Погодные явления_дождь', 'Погодные явления_малооблачно',\n",
       "       'Погодные явления_облачно', 'Погодные явления_пасмурно',\n",
       "       'Погодные явления_снег', 'Погодные явления_туман',\n",
       "       'Погодные явления_ясно'], dtype=object)"
      ]
     },
     "execution_count": 180,
     "metadata": {},
     "output_type": "execute_result"
    }
   ],
   "source": [
    "trait_names = np.concatenate((np.array(nums), ohe_cats), axis=0)\n",
    "trait_names"
   ]
  },
  {
   "cell_type": "code",
   "execution_count": 167,
   "id": "3bbe44a6",
   "metadata": {},
   "outputs": [
    {
     "data": {
      "text/plain": [
       "(33, 27, 6)"
      ]
     },
     "execution_count": 167,
     "metadata": {},
     "output_type": "execute_result"
    }
   ],
   "source": [
    "len(modcoef), len(ohe_cats), len(nums) # все признаки на месте, ничего не потеряли"
   ]
  },
  {
   "cell_type": "code",
   "execution_count": 181,
   "id": "cadd471e",
   "metadata": {
    "scrolled": false
   },
   "outputs": [
    {
     "data": {
      "text/html": [
       "<div>\n",
       "<style scoped>\n",
       "    .dataframe tbody tr th:only-of-type {\n",
       "        vertical-align: middle;\n",
       "    }\n",
       "\n",
       "    .dataframe tbody tr th {\n",
       "        vertical-align: top;\n",
       "    }\n",
       "\n",
       "    .dataframe thead th {\n",
       "        text-align: right;\n",
       "    }\n",
       "</style>\n",
       "<table border=\"1\" class=\"dataframe\">\n",
       "  <thead>\n",
       "    <tr style=\"text-align: right;\">\n",
       "      <th></th>\n",
       "      <th>0</th>\n",
       "      <th>1</th>\n",
       "    </tr>\n",
       "  </thead>\n",
       "  <tbody>\n",
       "    <tr>\n",
       "      <th>0</th>\n",
       "      <td>Ночная температура</td>\n",
       "      <td>0.076007</td>\n",
       "    </tr>\n",
       "    <tr>\n",
       "      <th>1</th>\n",
       "      <td>Дневная температура</td>\n",
       "      <td>0.096658</td>\n",
       "    </tr>\n",
       "    <tr>\n",
       "      <th>2</th>\n",
       "      <td>Влажность</td>\n",
       "      <td>-0.268028</td>\n",
       "    </tr>\n",
       "    <tr>\n",
       "      <th>3</th>\n",
       "      <td>Давление</td>\n",
       "      <td>0.156400</td>\n",
       "    </tr>\n",
       "    <tr>\n",
       "      <th>4</th>\n",
       "      <td>Сила ветра</td>\n",
       "      <td>0.055180</td>\n",
       "    </tr>\n",
       "    <tr>\n",
       "      <th>5</th>\n",
       "      <td>Перепад температур</td>\n",
       "      <td>0.091715</td>\n",
       "    </tr>\n",
       "    <tr>\n",
       "      <th>6</th>\n",
       "      <td>Месяц_1</td>\n",
       "      <td>0.255039</td>\n",
       "    </tr>\n",
       "    <tr>\n",
       "      <th>7</th>\n",
       "      <td>Месяц_2</td>\n",
       "      <td>0.310779</td>\n",
       "    </tr>\n",
       "    <tr>\n",
       "      <th>8</th>\n",
       "      <td>Месяц_3</td>\n",
       "      <td>0.259431</td>\n",
       "    </tr>\n",
       "    <tr>\n",
       "      <th>9</th>\n",
       "      <td>Месяц_4</td>\n",
       "      <td>-0.221494</td>\n",
       "    </tr>\n",
       "    <tr>\n",
       "      <th>10</th>\n",
       "      <td>Месяц_5</td>\n",
       "      <td>-0.268410</td>\n",
       "    </tr>\n",
       "    <tr>\n",
       "      <th>11</th>\n",
       "      <td>Месяц_6</td>\n",
       "      <td>-0.348431</td>\n",
       "    </tr>\n",
       "    <tr>\n",
       "      <th>12</th>\n",
       "      <td>Месяц_7</td>\n",
       "      <td>-0.164350</td>\n",
       "    </tr>\n",
       "    <tr>\n",
       "      <th>13</th>\n",
       "      <td>Месяц_8</td>\n",
       "      <td>-0.280059</td>\n",
       "    </tr>\n",
       "    <tr>\n",
       "      <th>14</th>\n",
       "      <td>Месяц_9</td>\n",
       "      <td>0.039369</td>\n",
       "    </tr>\n",
       "    <tr>\n",
       "      <th>15</th>\n",
       "      <td>Месяц_10</td>\n",
       "      <td>0.110722</td>\n",
       "    </tr>\n",
       "    <tr>\n",
       "      <th>16</th>\n",
       "      <td>Месяц_11</td>\n",
       "      <td>0.170903</td>\n",
       "    </tr>\n",
       "    <tr>\n",
       "      <th>17</th>\n",
       "      <td>Месяц_12</td>\n",
       "      <td>0.136503</td>\n",
       "    </tr>\n",
       "    <tr>\n",
       "      <th>18</th>\n",
       "      <td>Направление ветра_Восточный</td>\n",
       "      <td>-0.286361</td>\n",
       "    </tr>\n",
       "    <tr>\n",
       "      <th>19</th>\n",
       "      <td>Направление ветра_Западный</td>\n",
       "      <td>-0.498748</td>\n",
       "    </tr>\n",
       "    <tr>\n",
       "      <th>20</th>\n",
       "      <td>Направление ветра_Северный</td>\n",
       "      <td>0.027792</td>\n",
       "    </tr>\n",
       "    <tr>\n",
       "      <th>21</th>\n",
       "      <td>Направление ветра_Северо-восточный</td>\n",
       "      <td>-0.270165</td>\n",
       "    </tr>\n",
       "    <tr>\n",
       "      <th>22</th>\n",
       "      <td>Направление ветра_Северо-западный</td>\n",
       "      <td>0.525243</td>\n",
       "    </tr>\n",
       "    <tr>\n",
       "      <th>23</th>\n",
       "      <td>Направление ветра_Юго-восточный</td>\n",
       "      <td>0.133502</td>\n",
       "    </tr>\n",
       "    <tr>\n",
       "      <th>24</th>\n",
       "      <td>Направление ветра_Юго-западный</td>\n",
       "      <td>0.207086</td>\n",
       "    </tr>\n",
       "    <tr>\n",
       "      <th>25</th>\n",
       "      <td>Направление ветра_Южный</td>\n",
       "      <td>0.161651</td>\n",
       "    </tr>\n",
       "    <tr>\n",
       "      <th>26</th>\n",
       "      <td>Погодные явления_дождь</td>\n",
       "      <td>0.402273</td>\n",
       "    </tr>\n",
       "    <tr>\n",
       "      <th>27</th>\n",
       "      <td>Погодные явления_малооблачно</td>\n",
       "      <td>-0.667428</td>\n",
       "    </tr>\n",
       "    <tr>\n",
       "      <th>28</th>\n",
       "      <td>Погодные явления_облачно</td>\n",
       "      <td>-0.996047</td>\n",
       "    </tr>\n",
       "    <tr>\n",
       "      <th>29</th>\n",
       "      <td>Погодные явления_пасмурно</td>\n",
       "      <td>-0.333218</td>\n",
       "    </tr>\n",
       "    <tr>\n",
       "      <th>30</th>\n",
       "      <td>Погодные явления_снег</td>\n",
       "      <td>0.499517</td>\n",
       "    </tr>\n",
       "    <tr>\n",
       "      <th>31</th>\n",
       "      <td>Погодные явления_туман</td>\n",
       "      <td>1.222414</td>\n",
       "    </tr>\n",
       "    <tr>\n",
       "      <th>32</th>\n",
       "      <td>Погодные явления_ясно</td>\n",
       "      <td>-0.127511</td>\n",
       "    </tr>\n",
       "  </tbody>\n",
       "</table>\n",
       "</div>"
      ],
      "text/plain": [
       "                                     0         1\n",
       "0                   Ночная температура  0.076007\n",
       "1                  Дневная температура  0.096658\n",
       "2                            Влажность -0.268028\n",
       "3                             Давление  0.156400\n",
       "4                           Сила ветра  0.055180\n",
       "5                   Перепад температур  0.091715\n",
       "6                              Месяц_1  0.255039\n",
       "7                              Месяц_2  0.310779\n",
       "8                              Месяц_3  0.259431\n",
       "9                              Месяц_4 -0.221494\n",
       "10                             Месяц_5 -0.268410\n",
       "11                             Месяц_6 -0.348431\n",
       "12                             Месяц_7 -0.164350\n",
       "13                             Месяц_8 -0.280059\n",
       "14                             Месяц_9  0.039369\n",
       "15                            Месяц_10  0.110722\n",
       "16                            Месяц_11  0.170903\n",
       "17                            Месяц_12  0.136503\n",
       "18         Направление ветра_Восточный -0.286361\n",
       "19          Направление ветра_Западный -0.498748\n",
       "20          Направление ветра_Северный  0.027792\n",
       "21  Направление ветра_Северо-восточный -0.270165\n",
       "22   Направление ветра_Северо-западный  0.525243\n",
       "23     Направление ветра_Юго-восточный  0.133502\n",
       "24      Направление ветра_Юго-западный  0.207086\n",
       "25             Направление ветра_Южный  0.161651\n",
       "26              Погодные явления_дождь  0.402273\n",
       "27        Погодные явления_малооблачно -0.667428\n",
       "28            Погодные явления_облачно -0.996047\n",
       "29           Погодные явления_пасмурно -0.333218\n",
       "30               Погодные явления_снег  0.499517\n",
       "31              Погодные явления_туман  1.222414\n",
       "32               Погодные явления_ясно -0.127511"
      ]
     },
     "execution_count": 181,
     "metadata": {},
     "output_type": "execute_result"
    }
   ],
   "source": [
    "# теперь можем каждому признаку поставить в соответствие коэффициент в уравнении регрессии\n",
    "# ну и как-то проинтерпретировать\n",
    "\n",
    "pd.DataFrame(zip(trait_names, modcoef))"
   ]
  },
  {
   "cell_type": "markdown",
   "id": "99047b31",
   "metadata": {},
   "source": [
    "Пробежимся по некоторым признакам. Коэффициент со знаком минус - в пользу СПб, со знаком плюс - в пользу Москвы. Чем его величина больше по модулю, тем более он значим при определении городов. \n",
    "\n",
    "Чемпион по силе - туман. Если день туманный, он, вероятнее всего, происходит в Москве. Вообще говоря, я не уверен, что именно этот параметр датасет отражает близко к действительности; но если принять его на веру, то в данных так и есть - в Москве туманных дней значительно больше (см. сделанный EDA в разделе 4-5). А вот облачность уже характерная для Петербурга, и это самый \"сильный\" питерский критерий. По розе ветров - результаты аналогично согласуются с EDA. \n",
    "\n",
    "Трудно интерпретировать коэффициенты месяцев, которые довольно большие. Трактовка \"если день в феврале, то он вероятнее в Москве\" - очевидно абсурдна. Качественный вывод можно сделать такой: отдельные месяца для разных городов довольно заметно отличаются по другим параметрам (особенно февраль и август).\n",
    "\n",
    "Теперь про коэффициенты числовых переменных. Занимательно, что они слабее, чем у категориальных. Я бы связал это с тем, что категориальные принимают бинарные значения 0 и 1, а числовые - отрезок от нуля до единицы (после скейлинга). Можно утверждать, что температура, сила ветра и прочие числовые признаки менее весомы, чем категориальные, но с поправкой на предыдущее соображение. А так в группе числовых характеристик наиболее сильна влажность, и характерна она для СПб. "
   ]
  },
  {
   "cell_type": "markdown",
   "id": "a45f2e4c",
   "metadata": {},
   "source": [
    "# 2. Дерево решений \n",
    "\n",
    "Очень \"шумный\" датасет для такого алгоритма, ожидать улучшения показателей, наверное, не стоит. Но попробуем. "
   ]
  },
  {
   "cell_type": "code",
   "execution_count": 182,
   "id": "4c117774",
   "metadata": {},
   "outputs": [],
   "source": [
    "model_dtree = Pipeline(steps=[\n",
    "    ('ohe_and_scaling', column_transformer),\n",
    "    ('dtree', DecisionTreeClassifier(random_state=RS))\n",
    "])\n",
    "\n",
    "params = {\n",
    "    'dtree__criterion': ['gini', 'entropy'],\n",
    "    'dtree__splitter' : ['best', 'random'],\n",
    "    'dtree__max_features' : [\"auto\", \"sqrt\", \"log2\"]\n",
    "}\n",
    "\n",
    "searcher_dtree = GridSearchCV(model_dtree, params,\n",
    "                        scoring=\"roc_auc\", cv=5, n_jobs=-1)"
   ]
  },
  {
   "cell_type": "code",
   "execution_count": 184,
   "id": "2d327050",
   "metadata": {},
   "outputs": [],
   "source": [
    "%%capture\n",
    "searcher_dtree.fit(X_train, y_train)"
   ]
  },
  {
   "cell_type": "code",
   "execution_count": 185,
   "id": "55f1bb89",
   "metadata": {},
   "outputs": [
    {
     "data": {
      "text/plain": [
       "{'dtree__criterion': 'gini',\n",
       " 'dtree__max_features': 'auto',\n",
       " 'dtree__splitter': 'best'}"
      ]
     },
     "execution_count": 185,
     "metadata": {},
     "output_type": "execute_result"
    }
   ],
   "source": [
    "searcher_dtree.best_params_"
   ]
  },
  {
   "cell_type": "code",
   "execution_count": 189,
   "id": "a3cf97a9",
   "metadata": {},
   "outputs": [],
   "source": [
    "y_pred_tree = searcher_dtree.predict(X_test)\n",
    "p_pred_tree = searcher_dtree.predict_proba(X_test)\n",
    "p_pred_tree = p_pred_tree[:, -1]"
   ]
  },
  {
   "cell_type": "code",
   "execution_count": 190,
   "id": "3bf6f983",
   "metadata": {},
   "outputs": [
    {
     "name": "stdout",
     "output_type": "stream",
     "text": [
      "              precision    recall  f1-score   support\n",
      "\n",
      "         0.0       0.56      0.55      0.55       425\n",
      "         1.0       0.56      0.56      0.56       425\n",
      "\n",
      "    accuracy                           0.56       850\n",
      "   macro avg       0.56      0.56      0.56       850\n",
      "weighted avg       0.56      0.56      0.56       850\n",
      "\n"
     ]
    }
   ],
   "source": [
    "print(classification_report(y_pred_tree, y_test))"
   ]
  },
  {
   "cell_type": "code",
   "execution_count": 191,
   "id": "82708754",
   "metadata": {},
   "outputs": [
    {
     "data": {
      "text/plain": [
       "0.5552953421805881"
      ]
     },
     "execution_count": 191,
     "metadata": {},
     "output_type": "execute_result"
    }
   ],
   "source": [
    "roc_auc_score(y_test, p_pred_tree)"
   ]
  },
  {
   "cell_type": "markdown",
   "id": "60c7c72d",
   "metadata": {},
   "source": [
    "Все грустно, качество модели незначительно лучше случайного выбора. "
   ]
  },
  {
   "cell_type": "markdown",
   "id": "5a523eab",
   "metadata": {},
   "source": [
    "## 3. Случайный лес\n",
    "\n",
    "Главный герой. Должен дать наилучшие результаты. "
   ]
  },
  {
   "cell_type": "code",
   "execution_count": 192,
   "id": "b531d1fa",
   "metadata": {},
   "outputs": [],
   "source": [
    "model_rf = Pipeline(steps=[\n",
    "    ('ohe_and_scaling', column_transformer),\n",
    "    ('random_forest', RandomForestClassifier(random_state=RS))\n",
    "])\n",
    "\n",
    "params = {\n",
    "    'random_forest__n_estimators': [100, 200, 500],\n",
    "    'random_forest__max_features': ['sqrt', 'log2', 'auto']\n",
    "}\n",
    "\n",
    "searcher_rf = GridSearchCV(model_rf, params,\n",
    "                        scoring=\"roc_auc\", cv=5, n_jobs=-1)"
   ]
  },
  {
   "cell_type": "code",
   "execution_count": 193,
   "id": "c2e46b01",
   "metadata": {},
   "outputs": [],
   "source": [
    "%%capture\n",
    "searcher_rf.fit(X_train, y_train)"
   ]
  },
  {
   "cell_type": "code",
   "execution_count": 194,
   "id": "5cba6c0a",
   "metadata": {},
   "outputs": [],
   "source": [
    "y_pred_rf = searcher_rf.predict(X_test)\n",
    "p_pred_rf = searcher_rf.predict_proba(X_test)\n",
    "p_pred_rf = p_pred_rf[:, -1]"
   ]
  },
  {
   "cell_type": "code",
   "execution_count": 195,
   "id": "ddec5b48",
   "metadata": {},
   "outputs": [
    {
     "data": {
      "text/plain": [
       "{'random_forest__max_features': 'sqrt', 'random_forest__n_estimators': 500}"
      ]
     },
     "execution_count": 195,
     "metadata": {},
     "output_type": "execute_result"
    }
   ],
   "source": [
    "searcher_rf.best_params_"
   ]
  },
  {
   "cell_type": "code",
   "execution_count": 196,
   "id": "6e5e64f2",
   "metadata": {},
   "outputs": [
    {
     "name": "stdout",
     "output_type": "stream",
     "text": [
      "              precision    recall  f1-score   support\n",
      "\n",
      "         0.0       0.66      0.64      0.65       436\n",
      "         1.0       0.63      0.65      0.64       414\n",
      "\n",
      "    accuracy                           0.64       850\n",
      "   macro avg       0.64      0.64      0.64       850\n",
      "weighted avg       0.64      0.64      0.64       850\n",
      "\n"
     ]
    }
   ],
   "source": [
    "print(classification_report(y_pred_rf, y_test))"
   ]
  },
  {
   "cell_type": "code",
   "execution_count": 197,
   "id": "3aed227f",
   "metadata": {},
   "outputs": [
    {
     "data": {
      "text/plain": [
       "0.6973109439101766"
      ]
     },
     "execution_count": 197,
     "metadata": {},
     "output_type": "execute_result"
    }
   ],
   "source": [
    "roc_auc_score(y_test, p_pred_rf)"
   ]
  },
  {
   "cell_type": "markdown",
   "id": "53735295",
   "metadata": {},
   "source": [
    "**Результаты улучшились, получилось достать ROC-AUC в 0.7.**\n",
    "\n",
    "В итоге можно оценить решение задачи классификации на \"хорошо\". Если обогатить датасет информацией (например, тем же количеством осадков в милиметрах) - вполне вероятно еще увеличить этот показатель. \n",
    "\n",
    "А напоследок построим график, где сравним предсказательное качество наших моделей."
   ]
  },
  {
   "cell_type": "code",
   "execution_count": 279,
   "id": "d537eed5",
   "metadata": {},
   "outputs": [],
   "source": [
    "# если из всех предсказанных моделями значений вычесть истинные, поймем не только количество правильных предсказаний\n",
    "# а также узнаем, где модели чаще ошибаются\n",
    "\n",
    "oof = y_test.values\n",
    "d = {'LogReg': y_pred_lr - oof, 'Tree': y_pred_tree - oof, 'RandomForest': y_pred_rf - oof}"
   ]
  },
  {
   "cell_type": "code",
   "execution_count": 280,
   "id": "9734e7c7",
   "metadata": {},
   "outputs": [],
   "source": [
    "pl = pd.DataFrame(d)"
   ]
  },
  {
   "cell_type": "code",
   "execution_count": 326,
   "id": "be53fb83",
   "metadata": {},
   "outputs": [
    {
     "data": {
      "text/plain": [
       "<function matplotlib.pyplot.show(close=None, block=None)>"
      ]
     },
     "execution_count": 326,
     "metadata": {},
     "output_type": "execute_result"
    },
    {
     "data": {
      "image/png": "[encoded data removed]",
      "text/plain": [
       "<Figure size 720x432 with 1 Axes>"
      ]
     },
     "metadata": {
      "needs_background": "light"
     },
     "output_type": "display_data"
    }
   ],
   "source": [
    "plt.figure(figsize=(10,6))\n",
    "plt.hist([pl.LogReg, pl.Tree, pl.RandomForest], bins=3, color=['r','b','g'], alpha=0.8,\n",
    "        label=['LogReg', 'Tree', 'RandomForest'], orientation='horizontal')\n",
    "plt.yticks(ticks=[-0.7, 0, 0.7], labels=['Ошибочно предсказан СПб', 'Точное предсказание', 'Ошибочно предсказана Москва'])\n",
    "plt.xlabel('Количество предсказаний')\n",
    "plt.legend()\n",
    "plt.vlines(140, -1.2, 1.2, color='k', linestyle='--')\n",
    "plt.title('График распределения предсказаний моделей')\n",
    "plt.show"
   ]
  },
  {
   "cell_type": "code",
   "execution_count": 327,
   "id": "0c050ce5",
   "metadata": {},
   "outputs": [],
   "source": [
    "# модели чаще ошибочно предсказывают СПб, чем ошибочно предсказывают Москву"
   ]
  }
 ],
 "metadata": {
  "kernelspec": {
   "display_name": "Python 3 (ipykernel)",
   "language": "python",
   "name": "python3"
  },
  "language_info": {
   "codemirror_mode": {
    "name": "ipython",
    "version": 3
   },
   "file_extension": ".py",
   "mimetype": "text/x-python",
   "name": "python",
   "nbconvert_exporter": "python",
   "pygments_lexer": "ipython3",
   "version": "3.9.7"
  }
 },
 "nbformat": 4,
 "nbformat_minor": 5
}
