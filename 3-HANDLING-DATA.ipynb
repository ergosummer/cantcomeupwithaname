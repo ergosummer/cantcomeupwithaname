{
 "cells": [
  {
   "cell_type": "code",
   "execution_count": 166,
   "id": "a3566cf1",
   "metadata": {},
   "outputs": [],
   "source": [
    "import numpy as np\n",
    "import pandas as pd\n",
    "#import matplotlib as plt\n",
    "import scipy.stats as sts\n",
    "#import seaborn as sns"
   ]
  },
  {
   "cell_type": "code",
   "execution_count": 406,
   "id": "a0c44fc7",
   "metadata": {},
   "outputs": [],
   "source": [
    "# вытаскиваем таблички, которые спарсили ранее\n",
    "\n",
    "df_spb = pd.read_csv('weather_spb_2017_2023', sep=',')\n",
    "df_moscow = pd.read_csv('weather_moscow_2017_2023', sep=',')"
   ]
  },
  {
   "cell_type": "code",
   "execution_count": 407,
   "id": "0f26e72e",
   "metadata": {
    "scrolled": true
   },
   "outputs": [
    {
     "data": {
      "text/html": [
       "<div>\n",
       "<style scoped>\n",
       "    .dataframe tbody tr th:only-of-type {\n",
       "        vertical-align: middle;\n",
       "    }\n",
       "\n",
       "    .dataframe tbody tr th {\n",
       "        vertical-align: top;\n",
       "    }\n",
       "\n",
       "    .dataframe thead th {\n",
       "        text-align: right;\n",
       "    }\n",
       "</style>\n",
       "<table border=\"1\" class=\"dataframe\">\n",
       "  <thead>\n",
       "    <tr style=\"text-align: right;\">\n",
       "      <th></th>\n",
       "      <th>Unnamed: 0</th>\n",
       "      <th>Ночная температура</th>\n",
       "      <th>Дневная температура</th>\n",
       "      <th>Влажность</th>\n",
       "      <th>Давление</th>\n",
       "      <th>Направление ветра</th>\n",
       "      <th>Сила ветра</th>\n",
       "      <th>Погодные явления</th>\n",
       "    </tr>\n",
       "  </thead>\n",
       "  <tbody>\n",
       "    <tr>\n",
       "      <th>2120</th>\n",
       "      <td>2023-04-26</td>\n",
       "      <td>10.0</td>\n",
       "      <td>18.0</td>\n",
       "      <td>37.0</td>\n",
       "      <td>752.0</td>\n",
       "      <td>Южный</td>\n",
       "      <td>6.0</td>\n",
       "      <td>малооблачно</td>\n",
       "    </tr>\n",
       "    <tr>\n",
       "      <th>2121</th>\n",
       "      <td>2023-04-27</td>\n",
       "      <td>10.0</td>\n",
       "      <td>10.0</td>\n",
       "      <td>69.0</td>\n",
       "      <td>753.0</td>\n",
       "      <td>Восточный</td>\n",
       "      <td>3.0</td>\n",
       "      <td>ясно</td>\n",
       "    </tr>\n",
       "    <tr>\n",
       "      <th>2122</th>\n",
       "      <td>2023-04-28</td>\n",
       "      <td>3.0</td>\n",
       "      <td>9.0</td>\n",
       "      <td>81.0</td>\n",
       "      <td>760.0</td>\n",
       "      <td>Западный</td>\n",
       "      <td>7.0</td>\n",
       "      <td>пасмурно</td>\n",
       "    </tr>\n",
       "    <tr>\n",
       "      <th>2123</th>\n",
       "      <td>2023-04-29</td>\n",
       "      <td>1.0</td>\n",
       "      <td>7.0</td>\n",
       "      <td>70.0</td>\n",
       "      <td>760.0</td>\n",
       "      <td>Западный</td>\n",
       "      <td>7.0</td>\n",
       "      <td>пасмурно</td>\n",
       "    </tr>\n",
       "    <tr>\n",
       "      <th>2124</th>\n",
       "      <td>2023-04-30</td>\n",
       "      <td>1.0</td>\n",
       "      <td>10.0</td>\n",
       "      <td>90.0</td>\n",
       "      <td>757.0</td>\n",
       "      <td>Южный</td>\n",
       "      <td>7.0</td>\n",
       "      <td>пасмурно</td>\n",
       "    </tr>\n",
       "  </tbody>\n",
       "</table>\n",
       "</div>"
      ],
      "text/plain": [
       "      Unnamed: 0  Ночная температура  Дневная температура  Влажность   \n",
       "2120  2023-04-26                10.0                 18.0       37.0  \\\n",
       "2121  2023-04-27                10.0                 10.0       69.0   \n",
       "2122  2023-04-28                 3.0                  9.0       81.0   \n",
       "2123  2023-04-29                 1.0                  7.0       70.0   \n",
       "2124  2023-04-30                 1.0                 10.0       90.0   \n",
       "\n",
       "      Давление Направление ветра  Сила ветра Погодные явления  \n",
       "2120     752.0             Южный         6.0      малооблачно  \n",
       "2121     753.0         Восточный         3.0             ясно  \n",
       "2122     760.0          Западный         7.0         пасмурно  \n",
       "2123     760.0          Западный         7.0         пасмурно  \n",
       "2124     757.0             Южный         7.0         пасмурно  "
      ]
     },
     "execution_count": 407,
     "metadata": {},
     "output_type": "execute_result"
    }
   ],
   "source": [
    "df_spb.tail()\n",
    "# поставим колонку с датами в качестве индекса"
   ]
  },
  {
   "cell_type": "code",
   "execution_count": 408,
   "id": "69850e6e",
   "metadata": {},
   "outputs": [
    {
     "data": {
      "text/html": [
       "<div>\n",
       "<style scoped>\n",
       "    .dataframe tbody tr th:only-of-type {\n",
       "        vertical-align: middle;\n",
       "    }\n",
       "\n",
       "    .dataframe tbody tr th {\n",
       "        vertical-align: top;\n",
       "    }\n",
       "\n",
       "    .dataframe thead th {\n",
       "        text-align: right;\n",
       "    }\n",
       "</style>\n",
       "<table border=\"1\" class=\"dataframe\">\n",
       "  <thead>\n",
       "    <tr style=\"text-align: right;\">\n",
       "      <th></th>\n",
       "      <th>Ночная температура</th>\n",
       "      <th>Дневная температура</th>\n",
       "      <th>Влажность</th>\n",
       "      <th>Давление</th>\n",
       "      <th>Направление ветра</th>\n",
       "      <th>Сила ветра</th>\n",
       "      <th>Погодные явления</th>\n",
       "    </tr>\n",
       "    <tr>\n",
       "      <th>Дата</th>\n",
       "      <th></th>\n",
       "      <th></th>\n",
       "      <th></th>\n",
       "      <th></th>\n",
       "      <th></th>\n",
       "      <th></th>\n",
       "      <th></th>\n",
       "    </tr>\n",
       "  </thead>\n",
       "  <tbody>\n",
       "    <tr>\n",
       "      <th>2023-04-26</th>\n",
       "      <td>10.0</td>\n",
       "      <td>18.0</td>\n",
       "      <td>37.0</td>\n",
       "      <td>752.0</td>\n",
       "      <td>Южный</td>\n",
       "      <td>6.0</td>\n",
       "      <td>малооблачно</td>\n",
       "    </tr>\n",
       "    <tr>\n",
       "      <th>2023-04-27</th>\n",
       "      <td>10.0</td>\n",
       "      <td>10.0</td>\n",
       "      <td>69.0</td>\n",
       "      <td>753.0</td>\n",
       "      <td>Восточный</td>\n",
       "      <td>3.0</td>\n",
       "      <td>ясно</td>\n",
       "    </tr>\n",
       "    <tr>\n",
       "      <th>2023-04-28</th>\n",
       "      <td>3.0</td>\n",
       "      <td>9.0</td>\n",
       "      <td>81.0</td>\n",
       "      <td>760.0</td>\n",
       "      <td>Западный</td>\n",
       "      <td>7.0</td>\n",
       "      <td>пасмурно</td>\n",
       "    </tr>\n",
       "    <tr>\n",
       "      <th>2023-04-29</th>\n",
       "      <td>1.0</td>\n",
       "      <td>7.0</td>\n",
       "      <td>70.0</td>\n",
       "      <td>760.0</td>\n",
       "      <td>Западный</td>\n",
       "      <td>7.0</td>\n",
       "      <td>пасмурно</td>\n",
       "    </tr>\n",
       "    <tr>\n",
       "      <th>2023-04-30</th>\n",
       "      <td>1.0</td>\n",
       "      <td>10.0</td>\n",
       "      <td>90.0</td>\n",
       "      <td>757.0</td>\n",
       "      <td>Южный</td>\n",
       "      <td>7.0</td>\n",
       "      <td>пасмурно</td>\n",
       "    </tr>\n",
       "  </tbody>\n",
       "</table>\n",
       "</div>"
      ],
      "text/plain": [
       "            Ночная температура  Дневная температура  Влажность  Давление   \n",
       "Дата                                                                       \n",
       "2023-04-26                10.0                 18.0       37.0     752.0  \\\n",
       "2023-04-27                10.0                 10.0       69.0     753.0   \n",
       "2023-04-28                 3.0                  9.0       81.0     760.0   \n",
       "2023-04-29                 1.0                  7.0       70.0     760.0   \n",
       "2023-04-30                 1.0                 10.0       90.0     757.0   \n",
       "\n",
       "           Направление ветра  Сила ветра Погодные явления  \n",
       "Дата                                                       \n",
       "2023-04-26             Южный         6.0      малооблачно  \n",
       "2023-04-27         Восточный         3.0             ясно  \n",
       "2023-04-28          Западный         7.0         пасмурно  \n",
       "2023-04-29          Западный         7.0         пасмурно  \n",
       "2023-04-30             Южный         7.0         пасмурно  "
      ]
     },
     "execution_count": 408,
     "metadata": {},
     "output_type": "execute_result"
    }
   ],
   "source": [
    "df_spb.rename(columns={'Unnamed: 0': 'Дата'}, inplace=True)\n",
    "df_spb.set_index('Дата', inplace=True)\n",
    "df_spb.index = pd.to_datetime(df_spb.index)\n",
    "df_spb.tail()\n",
    "# починили индекс"
   ]
  },
  {
   "cell_type": "code",
   "execution_count": 409,
   "id": "6af3be31",
   "metadata": {
    "scrolled": false
   },
   "outputs": [
    {
     "data": {
      "text/plain": [
       "Ночная температура     float64\n",
       "Дневная температура    float64\n",
       "Влажность              float64\n",
       "Давление               float64\n",
       "Направление ветра       object\n",
       "Сила ветра             float64\n",
       "Погодные явления        object\n",
       "dtype: object"
      ]
     },
     "execution_count": 409,
     "metadata": {},
     "output_type": "execute_result"
    }
   ],
   "source": [
    "# смотрим классы колонок - если в результате преобразований они изменятся, это сигнал, что я поломал данные\n",
    "# сами колонки самоочевидны и особо комментировать их смысла нет:\n",
    "# можно обратить внимание на \"погодные явления\" - это облачность и осадки одновременно, но без количественного показателя\n",
    "# (осадки в мм на сайте практически везде отсутствуют)\n",
    "df_spb.dtypes"
   ]
  },
  {
   "cell_type": "code",
   "execution_count": 410,
   "id": "28a74ab4",
   "metadata": {
    "scrolled": true
   },
   "outputs": [
    {
     "name": "stdout",
     "output_type": "stream",
     "text": [
      "<class 'pandas.core.frame.DataFrame'>\n",
      "DatetimeIndex: 2125 entries, 2017-07-06 to 2023-04-30\n",
      "Data columns (total 7 columns):\n",
      " #   Column               Non-Null Count  Dtype  \n",
      "---  ------               --------------  -----  \n",
      " 0   Ночная температура   2117 non-null   float64\n",
      " 1   Дневная температура  2117 non-null   float64\n",
      " 2   Влажность            2118 non-null   float64\n",
      " 3   Давление             2118 non-null   float64\n",
      " 4   Направление ветра    2115 non-null   object \n",
      " 5   Сила ветра           2115 non-null   float64\n",
      " 6   Погодные явления     2118 non-null   object \n",
      "dtypes: float64(5), object(2)\n",
      "memory usage: 132.8+ KB\n"
     ]
    }
   ],
   "source": [
    "# смотрим количество пропусков; их не так много\n",
    "df_spb.info()"
   ]
  },
  {
   "cell_type": "code",
   "execution_count": 411,
   "id": "52ccc0d4",
   "metadata": {},
   "outputs": [
    {
     "data": {
      "text/html": [
       "<div>\n",
       "<style scoped>\n",
       "    .dataframe tbody tr th:only-of-type {\n",
       "        vertical-align: middle;\n",
       "    }\n",
       "\n",
       "    .dataframe tbody tr th {\n",
       "        vertical-align: top;\n",
       "    }\n",
       "\n",
       "    .dataframe thead th {\n",
       "        text-align: right;\n",
       "    }\n",
       "</style>\n",
       "<table border=\"1\" class=\"dataframe\">\n",
       "  <thead>\n",
       "    <tr style=\"text-align: right;\">\n",
       "      <th></th>\n",
       "      <th>Ночная температура</th>\n",
       "      <th>Дневная температура</th>\n",
       "      <th>Влажность</th>\n",
       "      <th>Давление</th>\n",
       "      <th>Сила ветра</th>\n",
       "    </tr>\n",
       "  </thead>\n",
       "  <tbody>\n",
       "    <tr>\n",
       "      <th>count</th>\n",
       "      <td>2117.000000</td>\n",
       "      <td>2117.000000</td>\n",
       "      <td>2118.000000</td>\n",
       "      <td>2118.000000</td>\n",
       "      <td>2115.000000</td>\n",
       "    </tr>\n",
       "    <tr>\n",
       "      <th>mean</th>\n",
       "      <td>4.288616</td>\n",
       "      <td>8.212093</td>\n",
       "      <td>74.717658</td>\n",
       "      <td>758.981114</td>\n",
       "      <td>5.284634</td>\n",
       "    </tr>\n",
       "    <tr>\n",
       "      <th>std</th>\n",
       "      <td>8.294060</td>\n",
       "      <td>10.112593</td>\n",
       "      <td>17.468281</td>\n",
       "      <td>8.686402</td>\n",
       "      <td>2.130405</td>\n",
       "    </tr>\n",
       "    <tr>\n",
       "      <th>min</th>\n",
       "      <td>-22.000000</td>\n",
       "      <td>-20.000000</td>\n",
       "      <td>24.000000</td>\n",
       "      <td>729.000000</td>\n",
       "      <td>1.000000</td>\n",
       "    </tr>\n",
       "    <tr>\n",
       "      <th>25%</th>\n",
       "      <td>-1.000000</td>\n",
       "      <td>0.000000</td>\n",
       "      <td>63.000000</td>\n",
       "      <td>753.000000</td>\n",
       "      <td>4.000000</td>\n",
       "    </tr>\n",
       "    <tr>\n",
       "      <th>50%</th>\n",
       "      <td>3.000000</td>\n",
       "      <td>7.000000</td>\n",
       "      <td>80.000000</td>\n",
       "      <td>759.000000</td>\n",
       "      <td>5.000000</td>\n",
       "    </tr>\n",
       "    <tr>\n",
       "      <th>75%</th>\n",
       "      <td>11.000000</td>\n",
       "      <td>17.000000</td>\n",
       "      <td>87.000000</td>\n",
       "      <td>765.000000</td>\n",
       "      <td>7.000000</td>\n",
       "    </tr>\n",
       "    <tr>\n",
       "      <th>max</th>\n",
       "      <td>31.000000</td>\n",
       "      <td>34.000000</td>\n",
       "      <td>100.000000</td>\n",
       "      <td>791.000000</td>\n",
       "      <td>16.000000</td>\n",
       "    </tr>\n",
       "  </tbody>\n",
       "</table>\n",
       "</div>"
      ],
      "text/plain": [
       "       Ночная температура  Дневная температура    Влажность     Давление   \n",
       "count         2117.000000          2117.000000  2118.000000  2118.000000  \\\n",
       "mean             4.288616             8.212093    74.717658   758.981114   \n",
       "std              8.294060            10.112593    17.468281     8.686402   \n",
       "min            -22.000000           -20.000000    24.000000   729.000000   \n",
       "25%             -1.000000             0.000000    63.000000   753.000000   \n",
       "50%              3.000000             7.000000    80.000000   759.000000   \n",
       "75%             11.000000            17.000000    87.000000   765.000000   \n",
       "max             31.000000            34.000000   100.000000   791.000000   \n",
       "\n",
       "        Сила ветра  \n",
       "count  2115.000000  \n",
       "mean      5.284634  \n",
       "std       2.130405  \n",
       "min       1.000000  \n",
       "25%       4.000000  \n",
       "50%       5.000000  \n",
       "75%       7.000000  \n",
       "max      16.000000  "
      ]
     },
     "execution_count": 411,
     "metadata": {},
     "output_type": "execute_result"
    }
   ],
   "source": [
    "# посмотрим на значения количественных переменных: если будут аномально большие/маленькие значения - заметим\n",
    "df_spb.describe()"
   ]
  },
  {
   "cell_type": "code",
   "execution_count": 412,
   "id": "29caa59d",
   "metadata": {},
   "outputs": [
    {
     "data": {
      "text/plain": [
       "array(['Западный', 'Северо-западный', 'Восточный', 'Юго-восточный',\n",
       "       'Северный', 'Юго-западный', nan, 'Северо-восточный', 'Южный'],\n",
       "      dtype=object)"
      ]
     },
     "execution_count": 412,
     "metadata": {},
     "output_type": "execute_result"
    }
   ],
   "source": [
    "# посмотрим на значения переменных object, потому что там могут оказаться кривые данные\n",
    "# (наличие которых не бросается в глаза в отличие от числовых признаков)\n",
    "\n",
    "df_spb['Направление ветра'].unique()"
   ]
  },
  {
   "cell_type": "code",
   "execution_count": 386,
   "id": "0f24fa99",
   "metadata": {
    "scrolled": true
   },
   "outputs": [
    {
     "data": {
      "text/plain": [
       "array(['пасмурно', 'ясно', 'облачно', nan, 'малооблачно', 'дождь',\n",
       "       'туман', '>\\n</img>', 'снег'], dtype=object)"
      ]
     },
     "execution_count": 386,
     "metadata": {},
     "output_type": "execute_result"
    }
   ],
   "source": [
    "df_spb['Погодные явления'].unique()\n",
    "# здесь есть лишняя абракадабра в виде оставшегося кода элемента, который уберу далее"
   ]
  },
  {
   "cell_type": "code",
   "execution_count": 420,
   "id": "89ee920d",
   "metadata": {},
   "outputs": [
    {
     "data": {
      "text/plain": [
       "Погодные явления\n",
       "пасмурно       1119\n",
       "ясно            368\n",
       "малооблачно     226\n",
       "снег            160\n",
       "облачно         131\n",
       "дождь            93\n",
       "туман            19\n",
       ">\\n</img>         2\n",
       "Name: count, dtype: int64"
      ]
     },
     "execution_count": 420,
     "metadata": {},
     "output_type": "execute_result"
    }
   ],
   "source": [
    "# но на всякий случай проверю, что таких значений немного\n",
    "df_spb['Погодные явления'].value_counts()\n",
    "# действительно немного, некриминальная ошибка"
   ]
  },
  {
   "cell_type": "code",
   "execution_count": 400,
   "id": "3372bf7a",
   "metadata": {},
   "outputs": [],
   "source": [
    "# сейчас будем заполнять пропуски: не средним по всей строке, а средним по месяцу - это будет более точным\n",
    "# для этого будем итерироваться по месяцам, считать среднее внутри месяца и ставить его в пропуск, если такой есть\n",
    "# пытался придумать, как это сделать через apply или fillna - не придумал, поэтому придется делать циклом\n",
    "# в качестве среднего возьмем моду - значения наблюдений слишком разреженные для среднего арифметического\n",
    "itermonths = pd.date_range(start=df_spb.index[0], end=df_spb.index[-1], freq='M')"
   ]
  },
  {
   "cell_type": "code",
   "execution_count": 401,
   "id": "17dbf0b6",
   "metadata": {
    "scrolled": true
   },
   "outputs": [],
   "source": [
    "for unit in itermonths:\n",
    "    mask = f'{unit.year}-{unit.month}' # можно изящнее вытащить месяц и год, но мне оказалось быстрее написать это\n",
    "    piece = df_spb.loc[mask] # месячный срез, по которому итерируемся\n",
    "    for column in df_spb.columns: # для каждой колонки заполняем пропуски\n",
    "        df_spb[f'{column}'].fillna(piece[f'{column}'].mode()[0], inplace=True)\n",
    "        \n",
    "        # а здесь разбираемся с криво спарсившимся значением\n",
    "        df_spb['Погодные явления'].replace(\n",
    "            '>\\n</img>', \n",
    "            piece['Погодные явления'].mode()[0], \n",
    "            inplace=True\n",
    "        )"
   ]
  },
  {
   "cell_type": "code",
   "execution_count": 402,
   "id": "8870b48f",
   "metadata": {},
   "outputs": [
    {
     "data": {
      "text/plain": [
       "array(['Западный', 'Северо-западный', 'Восточный', 'Юго-восточный',\n",
       "       'Северный', 'Юго-западный', 'Северо-восточный', 'Южный'],\n",
       "      dtype=object)"
      ]
     },
     "execution_count": 402,
     "metadata": {},
     "output_type": "execute_result"
    }
   ],
   "source": [
    "df_spb['Направление ветра'].unique()\n",
    "# пропуски убрали"
   ]
  },
  {
   "cell_type": "code",
   "execution_count": 403,
   "id": "3aa88b9e",
   "metadata": {},
   "outputs": [
    {
     "data": {
      "text/plain": [
       "array(['пасмурно', 'ясно', 'облачно', 'малооблачно', 'дождь', 'туман',\n",
       "       'снег'], dtype=object)"
      ]
     },
     "execution_count": 403,
     "metadata": {},
     "output_type": "execute_result"
    }
   ],
   "source": [
    "df_spb['Погодные явления'].unique()\n",
    "# убрали криво спарсившееся значение"
   ]
  },
  {
   "cell_type": "code",
   "execution_count": 404,
   "id": "41aad5e5",
   "metadata": {
    "scrolled": true
   },
   "outputs": [
    {
     "name": "stdout",
     "output_type": "stream",
     "text": [
      "<class 'pandas.core.frame.DataFrame'>\n",
      "DatetimeIndex: 2125 entries, 2017-07-06 to 2023-04-30\n",
      "Data columns (total 7 columns):\n",
      " #   Column               Non-Null Count  Dtype  \n",
      "---  ------               --------------  -----  \n",
      " 0   Ночная температура   2125 non-null   float64\n",
      " 1   Дневная температура  2125 non-null   float64\n",
      " 2   Влажность            2125 non-null   float64\n",
      " 3   Давление             2125 non-null   float64\n",
      " 4   Направление ветра    2125 non-null   object \n",
      " 5   Сила ветра           2125 non-null   float64\n",
      " 6   Погодные явления     2125 non-null   object \n",
      "dtypes: float64(5), object(2)\n",
      "memory usage: 132.8+ KB\n"
     ]
    }
   ],
   "source": [
    "df_spb.info()\n",
    "# тип данных везде сохранился, пропусков нет "
   ]
  },
  {
   "cell_type": "code",
   "execution_count": 405,
   "id": "d93e551e",
   "metadata": {},
   "outputs": [
    {
     "name": "stdout",
     "output_type": "stream",
     "text": [
      "<class 'pandas.core.frame.DataFrame'>\n",
      "DatetimeIndex: 2125 entries, 2017-07-06 to 2023-04-30\n",
      "Data columns (total 7 columns):\n",
      " #   Column               Non-Null Count  Dtype  \n",
      "---  ------               --------------  -----  \n",
      " 0   Ночная температура   2125 non-null   float64\n",
      " 1   Дневная температура  2125 non-null   float64\n",
      " 2   Влажность            2125 non-null   float64\n",
      " 3   Давление             2125 non-null   float64\n",
      " 4   Направление ветра    2125 non-null   object \n",
      " 5   Сила ветра           2125 non-null   float64\n",
      " 6   Погодные явления     2125 non-null   object \n",
      "dtypes: float64(5), object(2)\n",
      "memory usage: 132.8+ KB\n"
     ]
    }
   ],
   "source": [
    "# сделаем все то же для Москвы, только в одной ячейке и без комментариев\n",
    "df_moscow.rename(columns={'Unnamed: 0': 'Дата'}, inplace=True)\n",
    "df_moscow.set_index('Дата', inplace=True)\n",
    "df_moscow.index = pd.to_datetime(df_moscow.index)\n",
    "\n",
    "for unit in itermonths:\n",
    "    mask = f'{unit.year}-{unit.month}'\n",
    "    piece = df_moscow.loc[mask]\n",
    "    for column in df_moscow.columns:\n",
    "        df_moscow[f'{column}'].fillna(piece[f'{column}'].mode()[0], inplace=True)\n",
    "        df_moscow['Погодные явления'].replace(\n",
    "            '>\\n</img>', \n",
    "            piece['Погодные явления'].mode()[0], \n",
    "            inplace=True\n",
    "        )\n",
    "        \n",
    "df_moscow.info()"
   ]
  },
  {
   "cell_type": "code",
   "execution_count": 421,
   "id": "e381c81f",
   "metadata": {},
   "outputs": [],
   "source": [
    "# сохраним полученные таблички и загрузим на гитхаб\n",
    "df_spb.to_csv('spb_fixed')\n",
    "df_moscow.to_csv('moscow_fixed')"
   ]
  }
 ],
 "metadata": {
  "kernelspec": {
   "display_name": "Python 3 (ipykernel)",
   "language": "python",
   "name": "python3"
  },
  "language_info": {
   "codemirror_mode": {
    "name": "ipython",
    "version": 3
   },
   "file_extension": ".py",
   "mimetype": "text/x-python",
   "name": "python",
   "nbconvert_exporter": "python",
   "pygments_lexer": "ipython3",
   "version": "3.9.7"
  }
 },
 "nbformat": 4,
 "nbformat_minor": 5
}
